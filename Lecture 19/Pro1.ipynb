{
 "cells": [
  {
   "cell_type": "code",
   "execution_count": 40,
   "id": "80eb972b-872c-4264-aea4-5aed6b834d8b",
   "metadata": {},
   "outputs": [
    {
     "name": "stdout",
     "output_type": "stream",
     "text": [
      "Hello\n"
     ]
    }
   ],
   "source": [
    "print(\"Hello\")"
   ]
  },
  {
   "cell_type": "code",
   "execution_count": 41,
   "id": "b480258b-9577-462d-887c-8d801fc82217",
   "metadata": {},
   "outputs": [],
   "source": [
    "x=20\n",
    "y=23"
   ]
  },
  {
   "cell_type": "code",
   "execution_count": 42,
   "id": "6220a9fa-7dce-4dac-9129-1e707dcf826c",
   "metadata": {},
   "outputs": [
    {
     "name": "stdout",
     "output_type": "stream",
     "text": [
      "20\n"
     ]
    }
   ],
   "source": [
    "print(x)"
   ]
  },
  {
   "cell_type": "code",
   "execution_count": 43,
   "id": "b4507a0b-6623-4d07-ba3e-76060839142a",
   "metadata": {},
   "outputs": [
    {
     "name": "stdout",
     "output_type": "stream",
     "text": [
      "y is bigger\n"
     ]
    }
   ],
   "source": [
    "if x>y:\n",
    "    print(\"x is bigger.\")\n",
    "else:\n",
    "    print(\"y is bigger\")"
   ]
  },
  {
   "cell_type": "code",
   "execution_count": 44,
   "id": "891da9b7-89f0-4301-9aac-51aa6dbd3f42",
   "metadata": {},
   "outputs": [
    {
     "name": "stdout",
     "output_type": "stream",
     "text": [
      "0\n",
      "1\n",
      "2\n",
      "3\n",
      "4\n",
      "5\n",
      "6\n",
      "7\n",
      "8\n",
      "9\n",
      "End of program\n"
     ]
    }
   ],
   "source": [
    "i=0\n",
    "while i<10:\n",
    "    print(i)\n",
    "    i=i+1\n",
    "print(\"End of program\")"
   ]
  },
  {
   "cell_type": "code",
   "execution_count": 45,
   "id": "3dd159cc-c2fe-4805-b810-8d8074bbf61d",
   "metadata": {},
   "outputs": [
    {
     "name": "stdout",
     "output_type": "stream",
     "text": [
      "5\n",
      "7\n",
      "9\n",
      "11\n",
      "13\n"
     ]
    }
   ],
   "source": [
    "for i in range (5,15,2):\n",
    "    print(i)"
   ]
  },
  {
   "cell_type": "code",
   "execution_count": 46,
   "id": "01e89801-3b8c-4c65-ab07-ee38a9a3fdd8",
   "metadata": {},
   "outputs": [
    {
     "name": "stdout",
     "output_type": "stream",
     "text": [
      "79\n"
     ]
    }
   ],
   "source": [
    "import random\n",
    "x=random.randint(1,100)\n",
    "print(x)"
   ]
  },
  {
   "cell_type": "code",
   "execution_count": 51,
   "id": "dad0bca5-5952-4b1c-81f8-4a977743a869",
   "metadata": {},
   "outputs": [
    {
     "name": "stdout",
     "output_type": "stream",
     "text": [
      "87\n"
     ]
    },
    {
     "name": "stdin",
     "output_type": "stream",
     "text": [
      "Guess a number:  87\n"
     ]
    },
    {
     "name": "stdout",
     "output_type": "stream",
     "text": [
      "You win at 0 attempts\n"
     ]
    }
   ],
   "source": [
    "x=random.randint(1,100)\n",
    "i=0\n",
    "x=random.randint(1,100)\n",
    "print(x)\n",
    "while 1:\n",
    "    y=int(input(\"Guess a number: \"))\n",
    "    if(x==y):\n",
    "        print(f\"You win at {i} attempts\")\n",
    "        break;\n",
    "    elif x>y:\n",
    "        print(\"Guess a bigger nnumber.\")\n",
    "    else:\n",
    "        print(\"Guess a smaller number.\")\n",
    "    i=i+1\n",
    "        \n",
    "    \n",
    "    "
   ]
  },
  {
   "cell_type": "code",
   "execution_count": 56,
   "id": "76f658ee-ca59-474a-9336-1658fec2deb7",
   "metadata": {},
   "outputs": [],
   "source": [
    "def sum(x,y):\n",
    "    return x+y\n",
    "    \n"
   ]
  },
  {
   "cell_type": "code",
   "execution_count": 57,
   "id": "7c6390b5-e8f5-49e2-a380-66ccfb8434a8",
   "metadata": {},
   "outputs": [
    {
     "name": "stdout",
     "output_type": "stream",
     "text": [
      "5\n"
     ]
    }
   ],
   "source": [
    "si=sum(2,3)\n",
    "print(si)"
   ]
  },
  {
   "cell_type": "code",
   "execution_count": 80,
   "id": "9a39483b-369f-4f5d-90ab-51e26bb32791",
   "metadata": {},
   "outputs": [],
   "source": [
    "class A:\n",
    "    \n",
    "    def __init__(self, id, name, balance):\n",
    "\n",
    "        self.id=id\n",
    "        self.name=name\n",
    "        self.balance=balance\n",
    "    def display(self):\n",
    "        print(self.id, self.name, self.balance)\n",
    "\n",
    "    def withdrawl(self, x):\n",
    "        self.balance= self.balance-x\n",
    "        \n",
    "        \n",
    "    "
   ]
  },
  {
   "cell_type": "code",
   "execution_count": 81,
   "id": "94d6df15-6b83-4ac7-a79c-4b66a122c59b",
   "metadata": {},
   "outputs": [
    {
     "name": "stdout",
     "output_type": "stream",
     "text": [
      "100 Sifat 2000\n"
     ]
    }
   ],
   "source": [
    "a= A(100,\"Sifat\", 2000)\n",
    "a.display()"
   ]
  },
  {
   "cell_type": "code",
   "execution_count": null,
   "id": "efd9ceb4-5d44-49bd-9608-f7161dbf43b5",
   "metadata": {},
   "outputs": [],
   "source": [
    "z"
   ]
  },
  {
   "cell_type": "code",
   "execution_count": 83,
   "id": "e3b91b83-07da-4b1d-90e2-1d823a236375",
   "metadata": {},
   "outputs": [
    {
     "name": "stdout",
     "output_type": "stream",
     "text": [
      "200 belal 5000\n",
      "200 belal 3500\n"
     ]
    }
   ],
   "source": [
    "b =A(200, \"belal\", 5000)\n",
    "b.display()\n",
    "b.withdrawl(1500)\n",
    "b.display()"
   ]
  },
  {
   "cell_type": "code",
   "execution_count": 85,
   "id": "36bb2a5a-eaff-4576-901f-2b076dd06690",
   "metadata": {},
   "outputs": [
    {
     "name": "stdout",
     "output_type": "stream",
     "text": [
      "hello world\n"
     ]
    }
   ],
   "source": [
    "print(\"hello world\")\n"
   ]
  },
  {
   "cell_type": "code",
   "execution_count": null,
   "id": "f5bd36ec-69e0-4ee8-a73c-edb18e746d61",
   "metadata": {},
   "outputs": [],
   "source": [
    " "
   ]
  }
 ],
 "metadata": {
  "kernelspec": {
   "display_name": "Python 3 (ipykernel)",
   "language": "python",
   "name": "python3"
  },
  "language_info": {
   "codemirror_mode": {
    "name": "ipython",
    "version": 3
   },
   "file_extension": ".py",
   "mimetype": "text/x-python",
   "name": "python",
   "nbconvert_exporter": "python",
   "pygments_lexer": "ipython3",
   "version": "3.12.5"
  }
 },
 "nbformat": 4,
 "nbformat_minor": 5
}
