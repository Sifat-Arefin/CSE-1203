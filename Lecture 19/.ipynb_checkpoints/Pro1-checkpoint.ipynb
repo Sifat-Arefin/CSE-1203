{
 "cells": [
  {
   "cell_type": "code",
   "execution_count": 11,
   "id": "80eb972b-872c-4264-aea4-5aed6b834d8b",
   "metadata": {},
   "outputs": [
    {
     "name": "stdout",
     "output_type": "stream",
     "text": [
      "Hello\n"
     ]
    }
   ],
   "source": [
    "print(\"Hello\")"
   ]
  },
  {
   "cell_type": "code",
   "execution_count": 12,
   "id": "b480258b-9577-462d-887c-8d801fc82217",
   "metadata": {},
   "outputs": [],
   "source": [
    "x=20\n",
    "y=23"
   ]
  },
  {
   "cell_type": "code",
   "execution_count": 13,
   "id": "6220a9fa-7dce-4dac-9129-1e707dcf826c",
   "metadata": {},
   "outputs": [
    {
     "name": "stdout",
     "output_type": "stream",
     "text": [
      "20\n"
     ]
    }
   ],
   "source": [
    "print(x)"
   ]
  },
  {
   "cell_type": "code",
   "execution_count": 14,
   "id": "b4507a0b-6623-4d07-ba3e-76060839142a",
   "metadata": {},
   "outputs": [
    {
     "name": "stdout",
     "output_type": "stream",
     "text": [
      "y is bigger\n"
     ]
    }
   ],
   "source": [
    "if x>y:\n",
    "    print(\"x is bigger.\")\n",
    "else:\n",
    "    print(\"y is bigger\")"
   ]
  },
  {
   "cell_type": "code",
   "execution_count": 15,
   "id": "891da9b7-89f0-4301-9aac-51aa6dbd3f42",
   "metadata": {},
   "outputs": [
    {
     "name": "stdout",
     "output_type": "stream",
     "text": [
      "0\n",
      "1\n",
      "2\n",
      "3\n",
      "4\n",
      "5\n",
      "6\n",
      "7\n",
      "8\n",
      "9\n",
      "End of program\n"
     ]
    }
   ],
   "source": [
    "i=0\n",
    "while i<10:\n",
    "    print(i)\n",
    "    i=i+1\n",
    "print(\"End of program\")"
   ]
  },
  {
   "cell_type": "code",
   "execution_count": 17,
   "id": "3dd159cc-c2fe-4805-b810-8d8074bbf61d",
   "metadata": {},
   "outputs": [
    {
     "name": "stdout",
     "output_type": "stream",
     "text": [
      "5\n",
      "7\n",
      "9\n",
      "11\n",
      "13\n"
     ]
    }
   ],
   "source": [
    "for i in range (5,15,2):\n",
    "    print(i)"
   ]
  },
  {
   "cell_type": "code",
   "execution_count": null,
   "id": "01e89801-3b8c-4c65-ab07-ee38a9a3fdd8",
   "metadata": {},
   "outputs": [],
   "source": []
  }
 ],
 "metadata": {
  "kernelspec": {
   "display_name": "Python 3 (ipykernel)",
   "language": "python",
   "name": "python3"
  },
  "language_info": {
   "codemirror_mode": {
    "name": "ipython",
    "version": 3
   },
   "file_extension": ".py",
   "mimetype": "text/x-python",
   "name": "python",
   "nbconvert_exporter": "python",
   "pygments_lexer": "ipython3",
   "version": "3.12.5"
  }
 },
 "nbformat": 4,
 "nbformat_minor": 5
}
